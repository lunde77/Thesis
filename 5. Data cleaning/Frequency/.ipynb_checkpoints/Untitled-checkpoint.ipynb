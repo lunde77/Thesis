{
 "cells": [
  {
   "cell_type": "code",
   "execution_count": 3,
   "id": "daf26c59",
   "metadata": {},
   "outputs": [],
   "source": [
    "import pandas as pd\n",
    "import matplotlib.pyplot as plt\n",
    "import numpy as np"
   ]
  },
  {
   "cell_type": "markdown",
   "id": "34eb513e",
   "metadata": {},
   "source": [
    "% load file names "
   ]
  },
  {
   "cell_type": "code",
   "execution_count": 12,
   "id": "8a0558c1",
   "metadata": {},
   "outputs": [],
   "source": [
    "import os\n",
    "import pandas as pd\n",
    "\n",
    "Emil = False\n",
    "\n",
    "if Emil:\n",
    "    base_path = r\"C:\\Users\\ASUS\\Documents\\11. sem - kand\\EV data\"\n",
    "else:\n",
    "    base_path = r\"C:\\Users\\Gustav\\Documents\\Thesis\\data\\Frekvensdata\"\n"
   ]
  },
  {
   "cell_type": "code",
   "execution_count": 13,
   "id": "4e20bd59",
   "metadata": {},
   "outputs": [],
   "source": [
    "import os\n",
    "\n",
    "# Specify the folder path\n",
    "folder_path = base_path\n",
    "\n",
    "# Get a list of all files in the folder\n",
    "file_names = os.listdir(folder_path)\n"
   ]
  },
  {
   "cell_type": "code",
   "execution_count": 32,
   "id": "ca6e66bf",
   "metadata": {},
   "outputs": [],
   "source": [
    "import os\n",
    "import pandas as pd\n",
    "\n",
    "# Create a dictionary to store the loaded dataframes\n",
    "dataframes = {}\n",
    "\n",
    "# Create a list to store the dataframe names\n",
    "dataframe_names = []\n",
    "\n",
    "# Load the CSV files and store them in the dictionary\n",
    "for file_name in file_names:\n",
    "    file_path = os.path.join(folder_path, file_name)\n",
    "    dataframe_name = file_name  # Remove the \".csv\" extension and the first 3 characters, so only the CD numer is there\n",
    "    dataframes[dataframe_name] = pd.read_csv(file_path, parse_dates=['Time'])\n",
    "    dataframe_names.append(dataframe_name)\n"
   ]
  },
  {
   "cell_type": "code",
   "execution_count": 30,
   "id": "e4068ffd",
   "metadata": {},
   "outputs": [
    {
     "data": {
      "text/html": [
       "<div>\n",
       "<style scoped>\n",
       "    .dataframe tbody tr th:only-of-type {\n",
       "        vertical-align: middle;\n",
       "    }\n",
       "\n",
       "    .dataframe tbody tr th {\n",
       "        vertical-align: top;\n",
       "    }\n",
       "\n",
       "    .dataframe thead th {\n",
       "        text-align: right;\n",
       "    }\n",
       "</style>\n",
       "<table border=\"1\" class=\"dataframe\">\n",
       "  <thead>\n",
       "    <tr style=\"text-align: right;\">\n",
       "      <th></th>\n",
       "      <th>Time</th>\n",
       "      <th>Value</th>\n",
       "    </tr>\n",
       "  </thead>\n",
       "  <tbody>\n",
       "    <tr>\n",
       "      <th>0</th>\n",
       "      <td>2022-03-24 00:00:00.000</td>\n",
       "      <td>50.03944</td>\n",
       "    </tr>\n",
       "    <tr>\n",
       "      <th>1</th>\n",
       "      <td>2022-03-24 00:00:00.100</td>\n",
       "      <td>50.03922</td>\n",
       "    </tr>\n",
       "    <tr>\n",
       "      <th>2</th>\n",
       "      <td>2022-03-24 00:00:00.200</td>\n",
       "      <td>50.03865</td>\n",
       "    </tr>\n",
       "    <tr>\n",
       "      <th>3</th>\n",
       "      <td>2022-03-24 00:00:00.300</td>\n",
       "      <td>50.03873</td>\n",
       "    </tr>\n",
       "    <tr>\n",
       "      <th>4</th>\n",
       "      <td>2022-03-24 00:00:00.400</td>\n",
       "      <td>50.04094</td>\n",
       "    </tr>\n",
       "    <tr>\n",
       "      <th>5</th>\n",
       "      <td>2022-03-24 00:00:00.500</td>\n",
       "      <td>50.04004</td>\n",
       "    </tr>\n",
       "    <tr>\n",
       "      <th>6</th>\n",
       "      <td>2022-03-24 00:00:00.600</td>\n",
       "      <td>50.03907</td>\n",
       "    </tr>\n",
       "    <tr>\n",
       "      <th>7</th>\n",
       "      <td>2022-03-24 00:00:00.700</td>\n",
       "      <td>50.04139</td>\n",
       "    </tr>\n",
       "    <tr>\n",
       "      <th>8</th>\n",
       "      <td>2022-03-24 00:00:00.800</td>\n",
       "      <td>50.04080</td>\n",
       "    </tr>\n",
       "    <tr>\n",
       "      <th>9</th>\n",
       "      <td>2022-03-24 00:00:00.900</td>\n",
       "      <td>50.04006</td>\n",
       "    </tr>\n",
       "    <tr>\n",
       "      <th>10</th>\n",
       "      <td>2022-03-24 00:00:01.000</td>\n",
       "      <td>50.04086</td>\n",
       "    </tr>\n",
       "  </tbody>\n",
       "</table>\n",
       "</div>"
      ],
      "text/plain": [
       "                       Time     Value\n",
       "0   2022-03-24 00:00:00.000  50.03944\n",
       "1   2022-03-24 00:00:00.100  50.03922\n",
       "2   2022-03-24 00:00:00.200  50.03865\n",
       "3   2022-03-24 00:00:00.300  50.03873\n",
       "4   2022-03-24 00:00:00.400  50.04094\n",
       "5   2022-03-24 00:00:00.500  50.04004\n",
       "6   2022-03-24 00:00:00.600  50.03907\n",
       "7   2022-03-24 00:00:00.700  50.04139\n",
       "8   2022-03-24 00:00:00.800  50.04080\n",
       "9   2022-03-24 00:00:00.900  50.04006\n",
       "10  2022-03-24 00:00:01.000  50.04086"
      ]
     },
     "execution_count": 30,
     "metadata": {},
     "output_type": "execute_result"
    }
   ],
   "source": [
    "df = dataframes[dataframe_names[1]]\n",
    "\n",
    "start_time = '2022-03-24 00:00:00.000'\n",
    "end_time ='2022-03-24 00:00:01.000'\n",
    "\n",
    "\n",
    "\n",
    "# Filter the DataFrame to include only rows within the specified timestamp range\n",
    "filtered_df = df[(df['Time'] >= start_time) & (df['Time'] <= end_time)]\n",
    "filtered_df\n",
    "\n",
    "\n"
   ]
  },
  {
   "cell_type": "code",
   "execution_count": 78,
   "id": "8fd55d18",
   "metadata": {},
   "outputs": [
    {
     "ename": "IndentationError",
     "evalue": "expected an indented block (Temp/ipykernel_43384/2151275139.py, line 14)",
     "output_type": "error",
     "traceback": [
      "\u001b[1;36m  File \u001b[1;32m\"C:\\Users\\Gustav\\AppData\\Local\\Temp/ipykernel_43384/2151275139.py\"\u001b[1;36m, line \u001b[1;32m14\u001b[0m\n\u001b[1;33m    \u001b[0m\n\u001b[1;37m    ^\u001b[0m\n\u001b[1;31mIndentationError\u001b[0m\u001b[1;31m:\u001b[0m expected an indented block\n"
     ]
    }
   ],
   "source": [
    "# Load your CSV file\n",
    "df = dataframes[dataframe_names[0]]\n",
    "\n",
    "# Define your start and end times\n",
    "current_time = pd.Timestamp('2022-03-23 00:01:00.000')\n",
    "\n",
    "A_d = [0 for _ in range(60 * 24)]\n",
    "A_up = [0 for _ in range(60 * 24)]\n",
    "\n",
    "j = 0\n",
    "end_j = false \n",
    "for t in range(60):\n",
    "    for m in range(m):\n",
    "        m_ts = 0 # number of times stamps in the given minute\n",
    "        while current_time > df['Time'][j] || end_j:\n",
    "            m_ts = m_ts + 1 \n",
    "            f_d = -50 + df['Value'][j]  # get the difference from normel freq\n",
    "   \n",
    "            # compute the down regualtion activation \n",
    "            if f_d < -0.1:\n",
    "                ac = f_d/(-0.5)\n",
    "                if ac > 1:\n",
    "                    ac = 1         \n",
    "                A_d[m + (t-1)*60 ] = A_d[m + (t-1)*60 ]+ac\n",
    "            \n",
    "            # compute the up regualtion activation \n",
    "            if f_d > 0.1:\n",
    "                ac = f_d/(0.5)\n",
    "                if ac > 1:\n",
    "                    ac = 1         \n",
    "                A_u[m + (t-1)*60 ] = A_u[m + (t-1)*60 ]+ac\n",
    "            \n",
    "            \n",
    "            \n",
    "            j = j +1\n",
    "            if j == len(df):\n",
    "                end_j = true \n",
    "            \n",
    "            \n",
    "        A_d[m + (t-1)*60 ] = A_d[m + (t-1)*60 ]/m_ts # take the average activation \n",
    "        # Increment the timestamp by one minute\n",
    "        start_time += pd.Timedelta(minutes=1)\n",
    "        \n",
    "\n",
    "\n"
   ]
  },
  {
   "cell_type": "code",
   "execution_count": 71,
   "id": "e73729f4",
   "metadata": {},
   "outputs": [
    {
     "data": {
      "text/plain": [
       "True"
      ]
     },
     "execution_count": 71,
     "metadata": {},
     "output_type": "execute_result"
    }
   ],
   "source": [
    "pd.Timestamp('2022-03-24 00:01:00.100') > pd.Timestamp('2022-03-24 00:01:00.000')"
   ]
  },
  {
   "cell_type": "code",
   "execution_count": 72,
   "id": "56e98a1c",
   "metadata": {},
   "outputs": [
    {
     "name": "stdout",
     "output_type": "stream",
     "text": [
      "2022-03-24 00:02:00\n"
     ]
    }
   ],
   "source": [
    "start_time = pd.Timestamp('2022-03-24 00:01:00.000')\n",
    "\n",
    "\n",
    "\n",
    "print(start_time)"
   ]
  },
  {
   "cell_type": "code",
   "execution_count": 84,
   "id": "05094ee9",
   "metadata": {},
   "outputs": [
    {
     "data": {
      "text/plain": [
       "718266"
      ]
     },
     "execution_count": 84,
     "metadata": {},
     "output_type": "execute_result"
    }
   ],
   "source": [
    "df\n",
    "len(df)"
   ]
  },
  {
   "cell_type": "code",
   "execution_count": 82,
   "id": "4c8fab1b",
   "metadata": {},
   "outputs": [
    {
     "data": {
      "text/html": [
       "<div>\n",
       "<style scoped>\n",
       "    .dataframe tbody tr th:only-of-type {\n",
       "        vertical-align: middle;\n",
       "    }\n",
       "\n",
       "    .dataframe tbody tr th {\n",
       "        vertical-align: top;\n",
       "    }\n",
       "\n",
       "    .dataframe thead th {\n",
       "        text-align: right;\n",
       "    }\n",
       "</style>\n",
       "<table border=\"1\" class=\"dataframe\">\n",
       "  <thead>\n",
       "    <tr style=\"text-align: right;\">\n",
       "      <th></th>\n",
       "      <th>Time</th>\n",
       "      <th>Value</th>\n",
       "    </tr>\n",
       "  </thead>\n",
       "  <tbody>\n",
       "    <tr>\n",
       "      <th>0</th>\n",
       "      <td>2022-03-23 00:00:00.000</td>\n",
       "      <td>50.05250</td>\n",
       "    </tr>\n",
       "    <tr>\n",
       "      <th>1</th>\n",
       "      <td>2022-03-23 00:00:00.100</td>\n",
       "      <td>50.05258</td>\n",
       "    </tr>\n",
       "    <tr>\n",
       "      <th>2</th>\n",
       "      <td>2022-03-23 00:00:00.200</td>\n",
       "      <td>50.05353</td>\n",
       "    </tr>\n",
       "    <tr>\n",
       "      <th>3</th>\n",
       "      <td>2022-03-23 00:00:00.300</td>\n",
       "      <td>50.05216</td>\n",
       "    </tr>\n",
       "    <tr>\n",
       "      <th>4</th>\n",
       "      <td>2022-03-23 00:00:00.400</td>\n",
       "      <td>50.05318</td>\n",
       "    </tr>\n",
       "    <tr>\n",
       "      <th>...</th>\n",
       "      <td>...</td>\n",
       "      <td>...</td>\n",
       "    </tr>\n",
       "    <tr>\n",
       "      <th>718261</th>\n",
       "      <td>2022-03-23 23:59:59.500</td>\n",
       "      <td>50.04286</td>\n",
       "    </tr>\n",
       "    <tr>\n",
       "      <th>718262</th>\n",
       "      <td>2022-03-23 23:59:59.600</td>\n",
       "      <td>50.04253</td>\n",
       "    </tr>\n",
       "    <tr>\n",
       "      <th>718263</th>\n",
       "      <td>2022-03-23 23:59:59.700</td>\n",
       "      <td>50.04073</td>\n",
       "    </tr>\n",
       "    <tr>\n",
       "      <th>718264</th>\n",
       "      <td>2022-03-23 23:59:59.800</td>\n",
       "      <td>50.04154</td>\n",
       "    </tr>\n",
       "    <tr>\n",
       "      <th>718265</th>\n",
       "      <td>2022-03-23 23:59:59.900</td>\n",
       "      <td>50.04078</td>\n",
       "    </tr>\n",
       "  </tbody>\n",
       "</table>\n",
       "<p>718266 rows × 2 columns</p>\n",
       "</div>"
      ],
      "text/plain": [
       "                          Time     Value\n",
       "0      2022-03-23 00:00:00.000  50.05250\n",
       "1      2022-03-23 00:00:00.100  50.05258\n",
       "2      2022-03-23 00:00:00.200  50.05353\n",
       "3      2022-03-23 00:00:00.300  50.05216\n",
       "4      2022-03-23 00:00:00.400  50.05318\n",
       "...                        ...       ...\n",
       "718261 2022-03-23 23:59:59.500  50.04286\n",
       "718262 2022-03-23 23:59:59.600  50.04253\n",
       "718263 2022-03-23 23:59:59.700  50.04073\n",
       "718264 2022-03-23 23:59:59.800  50.04154\n",
       "718265 2022-03-23 23:59:59.900  50.04078\n",
       "\n",
       "[718266 rows x 2 columns]"
      ]
     },
     "execution_count": 82,
     "metadata": {},
     "output_type": "execute_result"
    }
   ],
   "source": []
  }
 ],
 "metadata": {
  "kernelspec": {
   "display_name": "Python 3 (ipykernel)",
   "language": "python",
   "name": "python3"
  },
  "language_info": {
   "codemirror_mode": {
    "name": "ipython",
    "version": 3
   },
   "file_extension": ".py",
   "mimetype": "text/x-python",
   "name": "python",
   "nbconvert_exporter": "python",
   "pygments_lexer": "ipython3",
   "version": "3.9.7"
  }
 },
 "nbformat": 4,
 "nbformat_minor": 5
}
