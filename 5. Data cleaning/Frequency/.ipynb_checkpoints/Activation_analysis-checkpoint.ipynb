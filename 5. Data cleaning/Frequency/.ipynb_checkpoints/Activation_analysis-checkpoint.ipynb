{
 "cells": [
  {
   "cell_type": "markdown",
   "metadata": {},
   "source": [
    "# Activation analysis"
   ]
  },
  {
   "cell_type": "code",
   "execution_count": 1,
   "metadata": {},
   "outputs": [
    {
     "name": "stderr",
     "output_type": "stream",
     "text": [
      "C:\\Users\\ASUS\\anaconda3\\lib\\site-packages\\pandas\\core\\computation\\expressions.py:20: UserWarning: Pandas requires version '2.7.3' or newer of 'numexpr' (version '2.7.1' currently installed).\n",
      "  from pandas.core.computation.check import NUMEXPR_INSTALLED\n"
     ]
    }
   ],
   "source": [
    "import pandas as pd\n",
    "import matplotlib.pyplot as plt\n",
    "import numpy as np\n",
    "import seaborn as sns"
   ]
  },
  {
   "cell_type": "markdown",
   "metadata": {},
   "source": [
    "% load file names "
   ]
  },
  {
   "cell_type": "code",
   "execution_count": 2,
   "metadata": {},
   "outputs": [],
   "source": [
    "import os\n",
    "import pandas as pd\n",
    "\n",
    "Emil = True\n",
    "\n",
    "if Emil:\n",
    "    base_path = r\"C:\\Users\\ASUS\\Documents\\11. sem - kand\\Data\\Frequency\"\n",
    "else:\n",
    "    base_path = r\"C:\\Users\\Gustav\\Documents\\Thesis\\data\\Frequency\"\n"
   ]
  },
  {
   "cell_type": "code",
   "execution_count": 3,
   "metadata": {},
   "outputs": [],
   "source": [
    "import os\n",
    "\n",
    "# Specify the folder path\n",
    "folder_path = base_path\n",
    "\n",
    "# Get a list of all files in the folder\n",
    "file_names = os.listdir(folder_path)\n"
   ]
  },
  {
   "cell_type": "code",
   "execution_count": null,
   "metadata": {},
   "outputs": [],
   "source": [
    "import os\n",
    "import pandas as pd\n",
    "\n",
    "# Create a dictionary to store the loaded dataframes\n",
    "dataframes = {}\n",
    "\n",
    "# Create a list to store the dataframe names\n",
    "dataframe_names = []\n",
    "\n",
    "# Load the CSV files and store them in the dictionary\n",
    "for file_name in file_names:\n",
    "    file_path = os.path.join(folder_path, file_name)\n",
    "    dataframe_name = file_name  # Remove the \".csv\" extension and the first 3 characters, so only the CD numer is there\n",
    "    dataframes[dataframe_name] = pd.read_csv(file_path, parse_dates=['Time'])\n",
    "    dataframe_names.append(dataframe_name)\n"
   ]
  },
  {
   "cell_type": "code",
   "execution_count": null,
   "metadata": {},
   "outputs": [],
   "source": [
    "dataframes"
   ]
  },
  {
   "cell_type": "code",
   "execution_count": null,
   "metadata": {},
   "outputs": [],
   "source": [
    "type(dataframes[\"2022-03-23.csv\"])"
   ]
  },
  {
   "cell_type": "code",
   "execution_count": null,
   "metadata": {},
   "outputs": [],
   "source": [
    "dataframes[\"2022-03-23.csv\"][\"Value\"]"
   ]
  },
  {
   "cell_type": "code",
   "execution_count": null,
   "metadata": {},
   "outputs": [],
   "source": []
  },
  {
   "cell_type": "code",
   "execution_count": null,
   "metadata": {},
   "outputs": [],
   "source": [
    "df_dataframes = []\n",
    "\n",
    "start_date = '2022-03-23'\n",
    "end_date = '2022-03-29'\n",
    "\n",
    "dates = pd.date_range(start=start_date, end=end_date)\n",
    "for date in dates:\n",
    "    specific_dataframe = dataframes[date.strftime('%Y-%m-%d') + \".csv\"]\n",
    "    df_dataframes += [item for item in specific_dataframe['Value'][::]]"
   ]
  },
  {
   "cell_type": "code",
   "execution_count": null,
   "metadata": {},
   "outputs": [],
   "source": [
    "len(df_dataframes)"
   ]
  },
  {
   "cell_type": "code",
   "execution_count": null,
   "metadata": {},
   "outputs": [],
   "source": [
    "718265/50"
   ]
  },
  {
   "cell_type": "code",
   "execution_count": null,
   "metadata": {},
   "outputs": [],
   "source": [
    "counter_under = 0\n",
    "counter_over = 0\n",
    "\n",
    "for i in range(0,len(df_dataframes)):\n",
    "    if df_dataframes[i] <= 49.9:\n",
    "        counter_under += 1\n",
    "    if df_dataframes[i] >= 50.1:\n",
    "        counter_over += 1"
   ]
  },
  {
   "cell_type": "code",
   "execution_count": null,
   "metadata": {},
   "outputs": [],
   "source": [
    "counter_under,counter_over"
   ]
  },
  {
   "cell_type": "code",
   "execution_count": null,
   "metadata": {},
   "outputs": [],
   "source": [
    "counter_under/len(df_dataframes)*100 , counter_over/len(df_dataframes)*100"
   ]
  },
  {
   "cell_type": "code",
   "execution_count": null,
   "metadata": {},
   "outputs": [],
   "source": [
    "len(df_dataframes[0:17280])"
   ]
  },
  {
   "cell_type": "code",
   "execution_count": null,
   "metadata": {},
   "outputs": [],
   "source": [
    "len(new_x_ticks)"
   ]
  },
  {
   "cell_type": "code",
   "execution_count": null,
   "metadata": {},
   "outputs": [],
   "source": [
    "new_x_ticks = np.linspace(0, 7, len(df_dataframes))\n",
    "new_x_ticks\n",
    "\n",
    "plt.figure(figsize=(10, 8))\n",
    "\n",
    "plt.plot(new_x_ticks, df_dataframes, linewidth=0.2)\n",
    "plt.ylim(49.8,50.2)\n",
    "plt.xlim(-0.1,7.1)\n",
    "new_x_axis = [0,1,2,3,4,5,6,7]  # Replace with your desired x-axis values\n",
    "plt.xticks(new_x_axis)\n",
    "plt.xlabel('Days')\n",
    "plt.ylabel('Frequency [Hz]')\n",
    "plt.show()"
   ]
  },
  {
   "cell_type": "code",
   "execution_count": null,
   "metadata": {},
   "outputs": [],
   "source": [
    "#fig = plt.subplots()\n",
    "plt.figure(figsize=(9, 7))\n",
    "\n",
    "#sns.kdeplot(df_dataframes, fill=True)\n",
    "sns.histplot(df_dataframes, binwidth=0.005)\n",
    "#plt.axvline(x=49.9, color='red', linestyle='-')\n",
    "#plt.axvline(x=50.1, color='red', linestyle='-')\n",
    "plt.xlim(49.8, 50.2)\n",
    "plt.xticks(rotation=90)\n",
    "plt.gca().invert_xaxis() # inverts the plot\n",
    "plt.gca().set_xticklabels([])\n",
    "\n",
    "ax = plt.gca()\n",
    "ax.yaxis.tick_right()\n",
    "plt.yticks(rotation=90)\n",
    "ax.set_ylabel('Number of occurrences', labelpad=-539, fontsize=12)\n",
    "plt.yticks(fontsize=12)\n",
    "\n",
    "# Make the frame lines thinner\n",
    "plt.gca().spines['top'].set_linewidth(1.2)    # Top border\n",
    "plt.gca().spines['right'].set_linewidth(1.2)  # Right border\n",
    "plt.gca().spines['bottom'].set_linewidth(1.2) # Bottom border\n",
    "plt.gca().spines['left'].set_linewidth(1.2)   # Left border\n"
   ]
  },
  {
   "cell_type": "code",
   "execution_count": null,
   "metadata": {},
   "outputs": [],
   "source": [
    "sns.displot(df_dataframes);"
   ]
  },
  {
   "cell_type": "code",
   "execution_count": null,
   "metadata": {},
   "outputs": [],
   "source": [
    "import datetime\n",
    "\n",
    "# Define start and end dates (with time)\n",
    "start_date = datetime.datetime(2022, 3, 23, 0, 0, 0, 0)  # Example: January 1, 2023, at 00:00:00.000\n",
    "end_date = datetime.datetime(2022, 3, 29, 0, 0, 0, 0)    # Example: January 1, 2023, at 00:00:01.000\n",
    "\n",
    "# List to store datetime strings\n",
    "datetime_strings = []\n",
    "\n",
    "# Loop to generate datetime strings at millisecond intervals\n",
    "current_date = start_date\n",
    "while current_date <= end_date:\n",
    "    datetime_strings.append(current_date.strftime('%Y-%m-%d %H:%M:%S.%f')[:-4])  # Truncate to milliseconds\n",
    "    current_date += datetime.timedelta(milliseconds=100)\n",
    "\n",
    "# Print the datetime strings\n",
    "for dt in datetime_strings:\n",
    "    print(dt)\n"
   ]
  },
  {
   "cell_type": "markdown",
   "metadata": {},
   "source": [
    "# Generated aggregation plot"
   ]
  },
  {
   "cell_type": "code",
   "execution_count": null,
   "metadata": {},
   "outputs": [],
   "source": [
    "Car1 = [6,6,6,6,6,6,6,6,6,6,6,6,6,6,6,6,6,6,6,6,6,6,6,6,6,6,6,6,6,6,6,3,0,0,0,0,0,0,0,0,0,0,0,0,0,0,0,0,0,0,0,0,0,0,0,0,0,0,0,0,0]\n",
    "Car2 = [0,0,0,0,0,0,0,0,0,0,0,0,0,0,0,0,0,0,0,0,0,0,0,0,0,0,0,0,0,3,6,6,6,6,6,6,6,6,6,6,6,6,6,6,6,6,6,6,6,6,6,6,6,6,6,6,6,6,6,6,6]\n",
    "\n",
    "UB = np.array([6,6,6,6,6,6,6,6,6,6,6,6,6,6,6,6,6,6,6,6,6,6,6,6,6,6,6,6,6,6,6,6,6,6,6,6,6,6,6,6,6,6,6,6,6,6,6,6,6,6,6,6,6,6,6,6,6,6,6,6,6,])\n",
    "LB = np.arange(0,61,1)\n",
    "\n",
    "max1 = [11,11,11,11,11,11,11,11,11,11,11,11,11,11,11,11,11,11,11,11,11,11,11,11,11,11,11,11,11,11,11,11,11,11,11,11,11,11,11,11,11,11,11,11,11,11,11,11,11,11,11,11,11,11,11,11,11,11,11,11,11]\n",
    "max2 = [22,22,22,22,22,22,22,22,22,22,22,22,22,22,22,22,22,22,22,22,22,22,22,22,22,22,22,22,22,22,22,22,22,22,22,22,22,22,22,22,22,22,22,22,22,22,22,22,22,22,22,22,22,22,22,22,22,22,22,22,22]"
   ]
  },
  {
   "cell_type": "code",
   "execution_count": null,
   "metadata": {},
   "outputs": [],
   "source": [
    "plt.figure(figsize=(8, 6))\n",
    "plt.plot(Car1, color=\"blue\", linewidth=5.0, label='Blue EV')\n",
    "plt.plot(Car2, color=\"Red\", linewidth=5.0, label='Red EV')\n",
    "plt.legend(loc='upper center', bbox_to_anchor=(0.5, 1.08), ncol=2)\n",
    "plt.xlabel('Minutes', fontsize=12, fontweight='bold')\n",
    "plt.ylabel('Power [kW]', fontsize=12, fontweight='bold')\n",
    "plt.xlim(0,60)\n",
    "plt.grid(True)\n",
    "plt.tight_layout()\n",
    "plt.show()"
   ]
  },
  {
   "cell_type": "code",
   "execution_count": null,
   "metadata": {},
   "outputs": [],
   "source": [
    "plt.figure(figsize=(7, 5))\n",
    "plt.plot(Car1, color=\"blue\", linewidth=5.0, label='Blue EV')\n",
    "plt.plot(32, 0, 'yo', markersize=12.5, label='Blue EV disconnects')                 # Additional point\n",
    "plt.plot(max1, color=\"Blue\", linewidth=2.0, linestyle=\"--\", label='max charge')\n",
    "#plt.plot(Car2, color=\"Red\", linewidth=5.0, label='Red EV')\n",
    "#plt.plot(28, 0, 'go', markersize=12.5, label='Red EV connects')                 # Additional point\n",
    "#plt.plot(max1, color=\"Red\", linewidth=2.0, linestyle=\"--\", label='max charge')\n",
    "plt.xlabel('Minutes', fontsize=15, fontweight='bold')\n",
    "plt.ylabel('Power [kW]', fontsize=15, fontweight='bold')\n",
    "plt.legend(loc='upper center', fontsize=13, bbox_to_anchor=(0.5, 1.16), ncol=3)\n",
    "plt.xlim(0,60)\n",
    "plt.ylim(-1,12)\n",
    "plt.grid(True)\n",
    "plt.tight_layout()\n",
    "plt.show()"
   ]
  },
  {
   "cell_type": "code",
   "execution_count": null,
   "metadata": {},
   "outputs": [],
   "source": [
    "Total_Car = np.add(Car1,Car2)"
   ]
  },
  {
   "cell_type": "code",
   "execution_count": null,
   "metadata": {},
   "outputs": [],
   "source": [
    "plt.figure(figsize=(9, 7))\n",
    "plt.plot(Total_Car, color=\"purple\", linewidth=5.0, label=\"EV's Aggregated\")\n",
    "plt.plot(max2, color=\"purple\", linewidth=2.0, linestyle=\"--\", label='max charge')\n",
    "plt.plot(28, 6, 'go', markersize=12.5, label='Red EV connects')                 # Additional point\n",
    "plt.plot(32, 6, 'yo', markersize=12.5, label='Blue EV disconnects')                 # Additional point\n",
    "plt.legend(loc='upper center', fontsize=14, bbox_to_anchor=(0.5, 1.15), ncol=2)\n",
    "#plt.fill_between(LB, UB, color=\"purple\", alpha=0.4)\n",
    "plt.xlabel('Minutes', fontsize=18, fontweight='bold')\n",
    "plt.ylabel('Power [kW]', fontsize=16, fontweight='bold')\n",
    "plt.xlim(0,60)\n",
    "plt.ylim(0,23)\n",
    "plt.grid(True)\n",
    "plt.tight_layout()\n",
    "plt.show()"
   ]
  },
  {
   "cell_type": "code",
   "execution_count": null,
   "metadata": {},
   "outputs": [],
   "source": []
  },
  {
   "cell_type": "code",
   "execution_count": null,
   "metadata": {},
   "outputs": [],
   "source": [
    "arr1 = ([])\n",
    "arr2 = ([])"
   ]
  },
  {
   "cell_type": "code",
   "execution_count": null,
   "metadata": {},
   "outputs": [],
   "source": []
  },
  {
   "cell_type": "code",
   "execution_count": null,
   "metadata": {},
   "outputs": [],
   "source": [
    "UB = np.full((2,1), 7, dtype=int),np.full((2,1), 7, dtype=int)\n",
    "LB = np.arange(0,1440,1)"
   ]
  },
  {
   "cell_type": "code",
   "execution_count": null,
   "metadata": {},
   "outputs": [],
   "source": [
    "wmdqo = np.concatenate((np.full(2,1), np.full((2,1), np.full((2,1)))"
   ]
  },
  {
   "cell_type": "code",
   "execution_count": null,
   "metadata": {},
   "outputs": [],
   "source": [
    "plt.figure(figsize=(9, 7))\n",
    "plt.plot(Total_Car, color=\"purple\", linewidth=5.0, label=\"EV's Aggregated\")\n",
    "plt.plot(max2, color=\"purple\", linewidth=2.0, linestyle=\"--\", label='max charge')\n",
    "plt.plot(28, 6, 'go', markersize=12.5, label='Red EV connects')                 # Additional point\n",
    "plt.plot(32, 6, 'yo', markersize=12.5, label='Blue EV disconnects')                 # Additional point\n",
    "plt.legend(loc='upper center', fontsize=14, bbox_to_anchor=(0.5, 1.15), ncol=2)\n",
    "plt.fill_between(LB, UB, color=\"purple\", alpha=0.4)\n",
    "plt.xlabel('Minutes', fontsize=18, fontweight='bold')\n",
    "plt.ylabel('Power [kW]', fontsize=16, fontweight='bold')\n",
    "plt.xlim(0,60)\n",
    "plt.ylim(0,23)\n",
    "plt.grid(True)\n",
    "plt.tight_layout()\n",
    "plt.show()"
   ]
  },
  {
   "cell_type": "code",
   "execution_count": null,
   "metadata": {},
   "outputs": [],
   "source": []
  },
  {
   "cell_type": "markdown",
   "metadata": {},
   "source": [
    "# show lowering of uncertainty by aggregating"
   ]
  },
  {
   "cell_type": "code",
   "execution_count": null,
   "metadata": {},
   "outputs": [],
   "source": [
    "poisson.pmf(900, mu=100, loc=10)"
   ]
  },
  {
   "cell_type": "code",
   "execution_count": null,
   "metadata": {},
   "outputs": [],
   "source": [
    "df1544 = pd.read_csv(r\"C:\\Users\\ASUS\\Documents\\11. sem - kand\\Data\\EV\\cleaned_data_RM90\\1544.csv\")"
   ]
  },
  {
   "cell_type": "code",
   "execution_count": null,
   "metadata": {},
   "outputs": [],
   "source": [
    "df1544"
   ]
  },
  {
   "cell_type": "code",
   "execution_count": null,
   "metadata": {},
   "outputs": [],
   "source": [
    "plt.plot(df1544[\"power(kW)\"])"
   ]
  },
  {
   "cell_type": "code",
   "execution_count": null,
   "metadata": {},
   "outputs": [],
   "source": [
    "file_names2 = os.listdir(\"C:\\Users\\ASUS\\Documents\\11. sem - kand\\Data\\EV\\cleaned_data_RM90\")\n",
    "\n",
    "                        \n",
    "\n",
    "# Create a dictionary to store the loaded dataframes\n",
    "dataframes2 = {}\n",
    "\n",
    "# Create a list to store the dataframe names\n",
    "dataframe_names2 = []\n",
    "\n",
    "# Load the CSV files and store them in the dictionary\n",
    "for file_name in file_names2:\n",
    "    file_path = os.path.join(\"C:\\Users\\ASUS\\Documents\\11. sem - kand\\Data\\EV\\cleaned_data_RM90\", file_name)\n",
    "    dataframe_name = file_name  # Remove the \".csv\" extension and the first 3 characters, so only the CD numer is there\n",
    "    dataframes2[dataframe_name] = pd.read_csv(\"C:\\Users\\ASUS\\Documents\\11. sem - kand\\Data\\EV\\cleaned_data_RM90\", parse_dates=['Time'])\n",
    "    dataframe_names2.append(dataframe_name)"
   ]
  },
  {
   "cell_type": "code",
   "execution_count": null,
   "metadata": {},
   "outputs": [],
   "source": []
  },
  {
   "cell_type": "code",
   "execution_count": null,
   "metadata": {},
   "outputs": [],
   "source": []
  },
  {
   "cell_type": "code",
   "execution_count": null,
   "metadata": {},
   "outputs": [],
   "source": [
    "import numpy as np\n",
    "import matplotlib.pyplot as plt\n",
    "from scipy.stats import gamma\n",
    "from ipywidgets import interact\n",
    "\n",
    "def plot_gamma_distribution(k=1.0, theta=1.0):\n",
    "    # Generate values for the x-axis (range of possible values)\n",
    "    x = np.linspace(0, 100, 400)\n",
    "\n",
    "    # Calculate the Gamma probability density function\n",
    "    y = gamma.pdf(x, a=k, scale=theta)\n",
    "\n",
    "    # Plotting the distribution\n",
    "    plt.figure(figsize=(10, 6))\n",
    "    plt.plot(x, y, label=f'k (Shape): {k}, θ (Scale): {theta}')\n",
    "    plt.title('Gamma Distribution')\n",
    "    plt.xlabel('Value')\n",
    "    plt.ylabel('Probability Density')\n",
    "    plt.legend()\n",
    "    plt.xlim(1,100)\n",
    "    plt.grid(True)\n",
    "    plt.show()\n",
    "\n",
    "# Create interactive sliders for the shape and scale parameters\n",
    "interact(plot_gamma_distribution, k=(1, 100.0, 1), theta=(0, 10.0, 0.2))\n"
   ]
  },
  {
   "cell_type": "code",
   "execution_count": null,
   "metadata": {},
   "outputs": [],
   "source": [
    "k1 = 9.25\n",
    "k2 = 3.5\n",
    "#k3 = 2\n",
    "theta1 = 4\n",
    "theta2 = 13.2\n",
    "#theta3 = 70\n",
    "\n",
    "x1 = np.linspace(0, 100, 400)\n",
    "x2 = np.linspace(0, 100, 400)\n",
    "#x3 = np.linspace(0, 1100, 400)\n",
    "\n",
    "# Calculate the Gamma probability density function\n",
    "y1 = gamma.pdf(x1, a=k1, scale=theta1)\n",
    "y2 = gamma.pdf(x2, a=k2, scale=theta2)\n",
    "#y3 = gamma.pdf(x3, a=k3, scale=theta3)"
   ]
  },
  {
   "cell_type": "code",
   "execution_count": null,
   "metadata": {},
   "outputs": [],
   "source": [
    "# Plotting the distribution\n",
    "plt.figure(figsize=(10, 6))\n",
    "plt.plot(x1, y1, label=\"aggregated CB\")\n",
    "plt.plot(x2, y2, label=\"individual CB\")\n",
    "plt.axvline(x=90/4, color='blue', linestyle='--', label=\"10th percent worst scenarios\")\n",
    "plt.axvline(x=73/4, color='r', linestyle='--', label=\"10th percent worst scenarios\")\n",
    "#plt.plot(x3, y3, label=f'k (Shape): {k3}, θ (Scale): {theta3}')\n",
    "plt.title('Gamma Distribution')\n",
    "plt.xlabel('Value')\n",
    "plt.ylabel('Probability Density')\n",
    "plt.legend()\n",
    "plt.grid(True)\n",
    "plt.xlim(1,100)\n",
    "plt.grid(True)\n",
    "plt.show()"
   ]
  },
  {
   "cell_type": "code",
   "execution_count": null,
   "metadata": {},
   "outputs": [],
   "source": [
    "print(np.mean(gamma.pdf(x1, a=k1, scale=theta1)))\n",
    "print(np.mean(gamma.pdf(x2, a=k2, scale=theta2)))\n"
   ]
  },
  {
   "cell_type": "code",
   "execution_count": null,
   "metadata": {},
   "outputs": [],
   "source": [
    "arr1 = gamma.pdf(x1, a=k1, scale=theta1)\n",
    "arr2 = gamma.pdf(x2, a=k2, scale=theta2)"
   ]
  },
  {
   "cell_type": "code",
   "execution_count": null,
   "metadata": {},
   "outputs": [],
   "source": [
    "np.argmax(arr1),np.argmax(arr2)"
   ]
  },
  {
   "cell_type": "code",
   "execution_count": null,
   "metadata": {},
   "outputs": [],
   "source": [
    "sum(arr1)*0.1,sum(arr2)*0.1"
   ]
  },
  {
   "cell_type": "code",
   "execution_count": null,
   "metadata": {},
   "outputs": [],
   "source": [
    "sum(arr1[0:90]),sum(arr2[0:74])"
   ]
  },
  {
   "cell_type": "code",
   "execution_count": null,
   "metadata": {},
   "outputs": [],
   "source": []
  },
  {
   "cell_type": "code",
   "execution_count": null,
   "metadata": {},
   "outputs": [],
   "source": [
    "k1 = 43\n",
    "k2 = 4.31\n",
    "theta1 = 1.5\n",
    "theta2 = 19\n",
    "\n",
    "x1 = np.linspace(0, 100, 400)\n",
    "x2 = np.linspace(0, 100, 400)\n",
    "\n",
    "# Calculate the Gamma probability density function\n",
    "y1 = gamma.pdf(x1, a=k1, scale=theta1)\n",
    "y2 = gamma.pdf(x2, a=k2, scale=theta2)\n",
    "y1 = y1[::-1]\n",
    "y2 = y2[::-1]\n",
    "y1 = y1/sum(y1)\n",
    "y2 = y2/sum(y2)"
   ]
  },
  {
   "cell_type": "code",
   "execution_count": null,
   "metadata": {},
   "outputs": [],
   "source": [
    "# Plotting the distribution\n",
    "plt.figure(figsize=(10, 6))\n",
    "plt.plot(x1, y1/3.986856562850009, label=\"aggregated CB\")\n",
    "plt.plot(x2, y2/2.883043463071468, label=\"individual CB\")\n",
    "plt.axvline(x=90/4, color='blue', linestyle='--', label=\"10th percentile agg. CB\")\n",
    "plt.axvline(x=35/4, color='r', linestyle='--', label=\"10th percentile ind. CB\")\n",
    "#plt.plot(x3, y3, label=f'k (Shape): {k3}, θ (Scale): {theta3}')\n",
    "#plt.title('The probability of having given amount of flexibility in a random hour')\n",
    "plt.xlabel('Percentage of total flexibility', fontsize=12, fontweight='bold')\n",
    "plt.ylabel('Probability Density', fontsize=12, fontweight='bold')\n",
    "plt.legend(fontsize=11)\n",
    "plt.grid(True)\n",
    "plt.xlim(1,100)\n",
    "plt.grid(True)\n",
    "plt.show()"
   ]
  },
  {
   "cell_type": "code",
   "execution_count": null,
   "metadata": {},
   "outputs": [],
   "source": []
  },
  {
   "cell_type": "code",
   "execution_count": null,
   "metadata": {},
   "outputs": [],
   "source": [
    "np.argmax(y1),np.argmax(y2)"
   ]
  },
  {
   "cell_type": "code",
   "execution_count": null,
   "metadata": {},
   "outputs": [],
   "source": [
    "sum(y1)*0.1,sum(y2)*0.1"
   ]
  },
  {
   "cell_type": "code",
   "execution_count": null,
   "metadata": {},
   "outputs": [],
   "source": [
    "sum(y1[0:91]),sum(y2[0:35])"
   ]
  }
 ],
 "metadata": {
  "kernelspec": {
   "display_name": "Python 3",
   "language": "python",
   "name": "python3"
  },
  "language_info": {
   "codemirror_mode": {
    "name": "ipython",
    "version": 3
   },
   "file_extension": ".py",
   "mimetype": "text/x-python",
   "name": "python",
   "nbconvert_exporter": "python",
   "pygments_lexer": "ipython3",
   "version": "3.8.3"
  }
 },
 "nbformat": 4,
 "nbformat_minor": 4
}
