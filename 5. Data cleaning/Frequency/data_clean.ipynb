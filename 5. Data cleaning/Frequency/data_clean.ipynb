{
 "cells": [
  {
   "cell_type": "code",
   "execution_count": 1,
   "id": "17a80621",
   "metadata": {},
   "outputs": [],
   "source": [
    "import pandas as pd\n",
    "import matplotlib.pyplot as plt\n",
    "import numpy as np"
   ]
  },
  {
   "cell_type": "markdown",
   "id": "ad0c5de8",
   "metadata": {},
   "source": [
    "% load file names "
   ]
  },
  {
   "cell_type": "code",
   "execution_count": 2,
   "id": "c8008589",
   "metadata": {},
   "outputs": [],
   "source": [
    "import os\n",
    "import pandas as pd\n",
    "\n",
    "Emil = False\n",
    "\n",
    "if Emil:\n",
    "    base_path = r\"C:\\Users\\ASUS\\Documents\\11. sem - kand\\EV data\"\n",
    "else:\n",
    "    base_path = r\"C:\\Users\\Gustav\\Documents\\Thesis\\data\\Frekvensdata\"\n"
   ]
  },
  {
   "cell_type": "code",
   "execution_count": 3,
   "id": "d90ea284",
   "metadata": {},
   "outputs": [],
   "source": [
    "import os\n",
    "\n",
    "# Specify the folder path\n",
    "folder_path = base_path\n",
    "\n",
    "# Get a list of all files in the folder\n",
    "file_names = os.listdir(folder_path)\n"
   ]
  },
  {
   "cell_type": "code",
   "execution_count": 4,
   "id": "4ce645e8",
   "metadata": {},
   "outputs": [],
   "source": [
    "import os\n",
    "import pandas as pd\n",
    "\n",
    "# Create a dictionary to store the loaded dataframes\n",
    "dataframes = {}\n",
    "\n",
    "# Create a list to store the dataframe names\n",
    "dataframe_names = []\n",
    "\n",
    "# Load the CSV files and store them in the dictionary\n",
    "for file_name in file_names:\n",
    "    file_path = os.path.join(folder_path, file_name)\n",
    "    dataframe_name = file_name  # Remove the \".csv\" extension and the first 3 characters, so only the CD numer is there\n",
    "    dataframes[dataframe_name] = pd.read_csv(file_path, parse_dates=['Time'])\n",
    "    dataframe_names.append(dataframe_name)\n"
   ]
  },
  {
   "cell_type": "code",
   "execution_count": null,
   "id": "d3c4df4e",
   "metadata": {},
   "outputs": [
    {
     "name": "stdout",
     "output_type": "stream",
     "text": [
      "0\n",
      "1\n",
      "2\n",
      "3\n",
      "4\n",
      "5\n",
      "6\n",
      "7\n",
      "8\n",
      "9\n",
      "10\n",
      "11\n",
      "12\n",
      "13\n",
      "14\n",
      "15\n",
      "16\n",
      "17\n",
      "18\n",
      "19\n",
      "20\n",
      "21\n",
      "22\n",
      "23\n",
      "24\n",
      "25\n",
      "26\n",
      "27\n",
      "28\n",
      "29\n",
      "30\n",
      "31\n",
      "32\n",
      "33\n",
      "34\n",
      "35\n",
      "36\n",
      "37\n",
      "38\n",
      "39\n",
      "40\n",
      "41\n",
      "42\n",
      "43\n",
      "44\n",
      "45\n",
      "46\n",
      "47\n",
      "48\n",
      "49\n",
      "50\n",
      "51\n",
      "52\n",
      "53\n",
      "54\n",
      "55\n",
      "56\n",
      "57\n",
      "58\n",
      "59\n",
      "60\n",
      "61\n",
      "62\n",
      "63\n",
      "64\n",
      "65\n",
      "66\n",
      "67\n",
      "68\n",
      "69\n",
      "70\n",
      "71\n",
      "72\n",
      "73\n",
      "74\n",
      "75\n",
      "76\n",
      "77\n",
      "78\n",
      "79\n",
      "80\n",
      "81\n",
      "82\n",
      "83\n",
      "84\n",
      "85\n",
      "86\n",
      "87\n",
      "88\n",
      "89\n",
      "90\n",
      "91\n",
      "92\n",
      "93\n",
      "94\n",
      "95\n",
      "96\n",
      "97\n",
      "98\n",
      "99\n",
      "100\n",
      "101\n",
      "102\n",
      "103\n",
      "104\n",
      "105\n",
      "106\n",
      "107\n",
      "108\n",
      "109\n"
     ]
    }
   ],
   "source": [
    "A_d = [0 for _ in range(60 * 24 * 365)]\n",
    "A_u = [0 for _ in range(60 * 24 * 365)]\n",
    "\n",
    "count = 0 \n",
    "\n",
    "for d in range(364):\n",
    "    #start_time += pd.Timedelta(days=1)\n",
    "    # Load your CSV file\n",
    "    df = dataframes[dataframe_names[d]]\n",
    "\n",
    "    # Define your start and end times\n",
    "    current_time = df['Time'][0]\n",
    "\n",
    "\n",
    "    print(d)\n",
    "    j = 0\n",
    "    end_j = False \n",
    "    for t in range(24):\n",
    "        for m in range(60):\n",
    "            current_time += pd.Timedelta(minutes=1)\n",
    "            m_ts = 0 # number of times stamps in the given minute\n",
    "            if end_j == False:\n",
    "                while current_time > df['Time'][j]:\n",
    "                    m_ts = m_ts + 1 \n",
    "                    f_d = -50 + df['Value'][j]  # get the difference from normel freq\n",
    "\n",
    "                    # compute the down regualtion activation \n",
    "                    if f_d < -0.1:\n",
    "                        f_d = f_d+0.1\n",
    "                        ac = f_d/(-0.4)\n",
    "                        if ac > 1:\n",
    "                            ac = 1  \n",
    "                            print(j)\n",
    "                        A_d[m + (t-1)*60 +(d-1)*1440 ] = A_d[m + (t-1)*60 +(d-1)*1440 ]+ac\n",
    "\n",
    "                    # compute the up regualtion activation \n",
    "                    if f_d > 0.1:\n",
    "                        f_d = f_d-0.1\n",
    "                        ac = f_d/(0.4)\n",
    "                        if ac > 1:\n",
    "                            ac = 1 \n",
    "                            print(j)\n",
    "                        A_u[m + (t-1)*60 +(d-1)*1440 ] = A_u[m + (t-1)*60 +(d-1)*1440 ]+ac\n",
    "                    \n",
    "                    if  (50.5 < df['Value'][j] or 49.5 > df['Value'][j]) and ac != 1: # checker \n",
    "                        print(\"there was a mistake!\")\n",
    "                        print(t)\n",
    "                        print(m)\n",
    "\n",
    "                    j = j +1\n",
    "                    \n",
    "                    if j >= (len(df)-1):\n",
    "                        end_j = True \n",
    "                        break\n",
    "\n",
    "                if  A_d[m + (t-1)*60 +(d-1)*1440  ] > 0:\n",
    "                    count = count + 1 # counter number of minutes we're activated\n",
    "                if m_ts == 0:\n",
    "                    A_d[m + (t-1)*60 +(d-1)*1440 ] = 0\n",
    "                else: \n",
    "                    A_d[m + (t-1)*60 +(d-1)*1440  ] = A_d[m + (t-1)*60 +(d-1)*1440  ]/m_ts # take the average activation \n",
    "                    A_u[m + (t-1)*60 +(d-1)*1440  ] = A_u[m + (t-1)*60 +(d-1)*1440  ]/m_ts # take the average activation \n",
    "                \n",
    "            \n",
    "        \n",
    "\n",
    "\n"
   ]
  },
  {
   "cell_type": "code",
   "execution_count": 28,
   "id": "7c42216f",
   "metadata": {},
   "outputs": [
    {
     "data": {
      "text/plain": [
       "0.00046272278536055593"
      ]
     },
     "execution_count": 28,
     "metadata": {},
     "output_type": "execute_result"
    },
    {
     "data": {
      "image/png": "[encoded data removed]",
      "text/plain": [
       "<Figure size 432x288 with 1 Axes>"
      ]
     },
     "metadata": {
      "needs_background": "light"
     },
     "output_type": "display_data"
    }
   ],
   "source": [
    "plt.plot(A_d)\n",
    "\n",
    "sum(A_u)/(60 * 24 * 365)"
   ]
  },
  {
   "cell_type": "code",
   "execution_count": 29,
   "id": "7ac04a21",
   "metadata": {},
   "outputs": [],
   "source": [
    "# Create a DataFrame from the lists\n",
    "df_activation = pd.DataFrame({'activation upwards': A_u, 'activations downwards': A_d})\n",
    "\n",
    "# Save the DataFrame to an Excel file\n",
    "df_activation.to_excel(r'C:\\Users\\Gustav\\Documents\\Thesis\\data\\Activation.xlsx', index=False)\n",
    "\n"
   ]
  },
  {
   "cell_type": "code",
   "execution_count": 27,
   "id": "8bf19385",
   "metadata": {},
   "outputs": [
    {
     "data": {
      "text/plain": [
       "14400"
      ]
     },
     "execution_count": 27,
     "metadata": {},
     "output_type": "execute_result"
    }
   ],
   "source": [
    "618010/10\n",
    "\n",
    "24*60*10"
   ]
  }
 ],
 "metadata": {
  "kernelspec": {
   "display_name": "Python 3 (ipykernel)",
   "language": "python",
   "name": "python3"
  },
  "language_info": {
   "codemirror_mode": {
    "name": "ipython",
    "version": 3
   },
   "file_extension": ".py",
   "mimetype": "text/x-python",
   "name": "python",
   "nbconvert_exporter": "python",
   "pygments_lexer": "ipython3",
   "version": "3.9.7"
  }
 },
 "nbformat": 4,
 "nbformat_minor": 5
}
